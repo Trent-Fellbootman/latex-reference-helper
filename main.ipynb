{
 "cells": [
  {
   "cell_type": "code",
   "execution_count": 1,
   "metadata": {},
   "outputs": [],
   "source": [
    "import latex_reference_tools as lrt"
   ]
  },
  {
   "cell_type": "code",
   "execution_count": 2,
   "metadata": {},
   "outputs": [],
   "source": [
    "with open('bookmarks_9_17_22.html') as f:\n",
    "    data = [line[:-1] for line in f.readlines()]"
   ]
  },
  {
   "cell_type": "code",
   "execution_count": 3,
   "metadata": {},
   "outputs": [
    {
     "name": "stdout",
     "output_type": "stream",
     "text": [
      "\\begin{enumerate}\n",
      "\\item\n",
      "\treferences-CS182-2:\n",
      "\t\\begin{enumerate}\n",
      "\t\\item\n",
      "\t\tpytorch:\n",
      "\t\t\\begin{enumerate}\n",
      "\t\t\t\\item \\href{https://discuss.pytorch.org/t/access-all-weights-of-a-model/77672}{Access all weights of a model - PyTorch Forums}\n",
      "\t\t\t\\item \\href{https://pytorch.org/docs/stable/generated/torch.Tensor.grad.html}{torch.Tensor.grad — PyTorch 1.12 documentation}\n",
      "\t\t\t\\item \\href{https://discuss.pytorch.org/t/copy-deepcopy-vs-clone/55022}{Copy.deepcopy() vs clone() - PyTorch Forums}\n",
      "\t\t\t\\item \\href{https://pytorch.org/docs/stable/generated/torch.clone.html}{torch.clone — PyTorch 1.12 documentation}\n",
      "\t\t\t\\item \\href{https://pytorch.org/docs/stable/generated/torch.numel.html#torch.numel}{torch.numel — PyTorch 1.12 documentation}\n",
      "\t\t\\end{enumerate}\n",
      "\t\\item\n",
      "\t\tmatplotlib:\n",
      "\t\t\\begin{enumerate}\n",
      "\t\t\t\\item \\href{https://matplotlib.org/stable/api/_as_gen/matplotlib.pyplot.plot.html}{matplotlib.pyplot.plot — Matplotlib 3.5.3 documentation}\n",
      "\t\t\t\\item \\href{https://matplotlib.org/stable/api/_as_gen/matplotlib.pyplot.semilogx.html}{matplotlib.pyplot.semilogx — Matplotlib 3.5.3 documentation}\n",
      "\t\t\\end{enumerate}\n",
      "\t\\item\n",
      "\t\tlatex:\n",
      "\t\t\\begin{enumerate}\n",
      "\t\t\t\\item \\href{https://tex.stackexchange.com/questions/609627/how-to-position-images-as-a-grid-in-a-page}{graphics - How to position images as a grid in a page - TeX - LaTeX Stack Exchange}\n",
      "\t\t\t\\item \\href{https://www.overleaf.com/learn/latex/Tables}{Tables - Overleaf, Online LaTeX Editor}\n",
      "\t\t\\end{enumerate}\n",
      "\t\\item\n",
      "\t\tJupyter:\n",
      "\t\t\\begin{enumerate}\n",
      "\t\t\t\\item \\href{https://ipywidgets.readthedocs.io/en/stable/}{Jupyter Widgets — Jupyter Widgets 8.0.2 documentation}\n",
      "\t\t\\end{enumerate}\n",
      "\t\\item\n",
      "\t\tPython:\n",
      "\t\t\\begin{enumerate}\n",
      "\t\t\t\\item \\href{https://www.w3schools.com/python/ref_dictionary_setdefault.asp}{Python Dictionary setdefault() Method}\n",
      "\t\t\t\\item \\href{https://docs.python.org/3/library/os.html}{os — Miscellaneous operating system interfaces — Python 3.10.7 documentation}\n",
      "\t\t\t\\item \\href{https://stackoverflow.com/questions/8933237/how-do-i-check-if-directory-exists-in-python}{How do I check if directory exists in Python? - Stack Overflow}\n",
      "\t\t\t\\item \\href{https://www.geeksforgeeks.org/how-to-get-file-extension-in-python/}{How to get file extension in Python? - GeeksforGeeks}\n",
      "\t\t\\end{enumerate}\n",
      "\t\\item\n",
      "\t\tnumpy:\n",
      "\t\t\\begin{enumerate}\n",
      "\t\t\t\\item \\href{https://numpy.org/doc/stable/reference/generated/numpy.linalg.svd.html}{numpy.linalg.svd — NumPy v1.23 Manual}\n",
      "\t\t\\end{enumerate}\n",
      "\t\\item\n",
      "\t\tmath:\n",
      "\t\t\\begin{enumerate}\n",
      "\t\t\t\\item \\href{http://www.ifp.illinois.edu/~angelia/L3_convfunc.pdf}{Convex Functions}\n",
      "\t\t\t\\item \\href{https://towardsdatascience.com/understanding-rmsprop-faster-neural-network-learning-62e116fcf29a}{Understanding RMSprop — faster neural network learning | by Vitaly Bushaev | Towards Data Science}\n",
      "\t\t\t\\item \\href{https://stats.stackexchange.com/questions/134282/relationship-between-svd-and-pca-how-to-use-svd-to-perform-pca}{dimensionality reduction - Relationship between SVD and PCA. How to use SVD to perform PCA? - Cross Validated}\n",
      "\t\t\t\\item \\href{https://en.wikipedia.org/wiki/Eigendecomposition_of_a_matrix}{Eigendecomposition of a matrix - Wikipedia}\n",
      "\t\t\t\\item \\href{https://en.wikipedia.org/wiki/Spectral_decomposition}{Spectral decomposition - Wikipedia}\n",
      "\t\t\t\\item \\href{https://en.wikipedia.org/wiki/Principal_component_analysis#Table_of_symbols_and_abbreviations}{Principal component analysis - Wikipedia}\n",
      "\t\t\\end{enumerate}\n",
      "\t\\item\n",
      "\t\tothers:\n",
      "\t\t\\begin{enumerate}\n",
      "\t\t\t\\item \\href{https://stackoverflow.com/questions/5509543/how-do-i-properly-force-a-git-push}{How do I properly force a Git push? - Stack Overflow}\n",
      "\t\t\\end{enumerate}\n",
      "\t\\end{enumerate}\n",
      "\\end{enumerate}\n",
      "\n"
     ]
    }
   ],
   "source": [
    "print(\n",
    "    lrt.generate_latex_from_bookmarks(\n",
    "    lrt.parse_chrome_bookmarks(data),\n",
    "    root='references-CS182-2'))"
   ]
  }
 ],
 "metadata": {
  "kernelspec": {
   "display_name": "Python 3.9.7 ('python3.9')",
   "language": "python",
   "name": "python3"
  },
  "language_info": {
   "codemirror_mode": {
    "name": "ipython",
    "version": 3
   },
   "file_extension": ".py",
   "mimetype": "text/x-python",
   "name": "python",
   "nbconvert_exporter": "python",
   "pygments_lexer": "ipython3",
   "version": "3.9.7"
  },
  "orig_nbformat": 4,
  "vscode": {
   "interpreter": {
    "hash": "dcb3c58c1bf3eb455e4797182986d6285285dde6ec5579c7007dd71a62cc49f2"
   }
  }
 },
 "nbformat": 4,
 "nbformat_minor": 2
}
